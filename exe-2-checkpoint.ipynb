{
 "cells": [
  {
   "cell_type": "code",
   "execution_count": 3,
   "id": "4aed2b8d-c71b-4c03-84a0-db878d437653",
   "metadata": {},
   "outputs": [
    {
     "name": "stdout",
     "output_type": "stream",
     "text": [
      "Your name in capital letters: YOUR NAME\n"
     ]
    }
   ],
   "source": [
    "#Write a program to print your name in capital letters\n",
    "def print_name_in_caps(name):\n",
    "    # Use the upper() method to convert the name to uppercase\n",
    "    caps_name = name.upper()\n",
    "    print(\"Your name in capital letters:\", caps_name)\n",
    "\n",
    "# Replace 'Your Name' with your actual name\n",
    "your_name = \"Your Name\"\n",
    "\n",
    "# Call the function to print your name in capital letters\n",
    "print_name_in_caps(your_name)\n"
   ]
  },
  {
   "cell_type": "code",
   "execution_count": 4,
   "id": "45d1d2e6-8251-41c8-8fb1-e4df5d599c17",
   "metadata": {},
   "outputs": [
    {
     "name": "stdout",
     "output_type": "stream",
     "text": [
      "The integer value is: 42\n"
     ]
    }
   ],
   "source": [
    "#Write a program to print integer value in python\n",
    "# Define an integer variable\n",
    "integer_value = 42\n",
    "\n",
    "# Print the integer value\n",
    "print(\"The integer value is:\", integer_value)\n"
   ]
  },
  {
   "cell_type": "code",
   "execution_count": null,
   "id": "158479cc-fa9d-4622-9037-280b0d7d0bd6",
   "metadata": {},
   "outputs": [],
   "source": []
  }
 ],
 "metadata": {
  "kernelspec": {
   "display_name": "Python 3 (ipykernel)",
   "language": "python",
   "name": "python3"
  },
  "language_info": {
   "codemirror_mode": {
    "name": "ipython",
    "version": 3
   },
   "file_extension": ".py",
   "mimetype": "text/x-python",
   "name": "python",
   "nbconvert_exporter": "python",
   "pygments_lexer": "ipython3",
   "version": "3.12.0"
  }
 },
 "nbformat": 4,
 "nbformat_minor": 5
}
