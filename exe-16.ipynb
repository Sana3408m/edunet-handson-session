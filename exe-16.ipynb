{
 "cells": [
  {
   "cell_type": "code",
   "execution_count": 1,
   "id": "3e432ff2-27aa-459f-9716-9f4eaa6dd1e1",
   "metadata": {},
   "outputs": [
    {
     "name": "stdout",
     "output_type": "stream",
     "text": [
      "Manually Split Data:\n",
      "Train Data:\n",
      "   Feature1  Feature2  Target\n",
      "0  0.013947  0.274148       1\n",
      "1  0.421396  0.100266       0\n",
      "2  0.711535  0.678808       1\n",
      "3  0.629015  0.402703       0\n",
      "4  0.459984  0.112894       1\n",
      "\n",
      "Test Data:\n",
      "    Feature1  Feature2  Target\n",
      "80  0.113216  0.841569       0\n",
      "81  0.791623  0.270441       1\n",
      "82  0.174425  0.404075       1\n",
      "83  0.455757  0.717369       1\n",
      "84  0.375579  0.164516       0\n"
     ]
    }
   ],
   "source": [
    "#Split the given data set without using sklearn and using sklearn \n",
    "import pandas as pd\n",
    "import numpy as np\n",
    "\n",
    "# Sample DataFrame\n",
    "data = {\n",
    "    'Feature1': np.random.rand(100),\n",
    "    'Feature2': np.random.rand(100),\n",
    "    'Target': np.random.randint(0, 2, 100)  # Binary classification target\n",
    "}\n",
    "\n",
    "# Creating DataFrame\n",
    "df = pd.DataFrame(data)\n",
    "\n",
    "# Manually splitting the dataset into train and test (80% train, 20% test)\n",
    "train_size = int(len(df) * 0.8)\n",
    "\n",
    "train_data = df.iloc[:train_size]\n",
    "test_data = df.iloc[train_size:]\n",
    "\n",
    "print(\"Manually Split Data:\")\n",
    "print(\"Train Data:\")\n",
    "print(train_data.head())\n",
    "print(\"\\nTest Data:\")\n",
    "print(test_data.head())\n"
   ]
  },
  {
   "cell_type": "code",
   "execution_count": 3,
   "id": "0ec5e889-a079-4875-a0e8-4c0f6d23ec63",
   "metadata": {},
   "outputs": [
    {
     "name": "stdout",
     "output_type": "stream",
     "text": [
      "Split Data using Scikit-learn:\n",
      "Train Data:\n",
      "    Feature1  Feature2  Target\n",
      "55  0.152498  0.556432       1\n",
      "88  0.998832  0.214909       0\n",
      "26  0.502359  0.729724       1\n",
      "42  0.848307  0.952929       1\n",
      "69  0.758176  0.720050       0\n",
      "\n",
      "Test Data:\n",
      "    Feature1  Feature2  Target\n",
      "83  0.455757  0.717369       1\n",
      "53  0.132270  0.063656       0\n",
      "70  0.751843  0.433862       1\n",
      "45  0.715689  0.119391       0\n",
      "44  0.892510  0.302358       1\n"
     ]
    }
   ],
   "source": [
    "from sklearn.model_selection import train_test_split\n",
    "\n",
    "# Using the same DataFrame 'df' created in the previous example\n",
    "\n",
    "# Splitting the dataset using train_test_split\n",
    "train_data_sklearn, test_data_sklearn = train_test_split(df, test_size=0.2, random_state=42)\n",
    "\n",
    "print(\"Split Data using Scikit-learn:\")\n",
    "print(\"Train Data:\")\n",
    "print(train_data_sklearn.head())\n",
    "print(\"\\nTest Data:\")\n",
    "print(test_data_sklearn.head())\n"
   ]
  },
  {
   "cell_type": "code",
   "execution_count": null,
   "id": "98fc3fb4-0f32-4d67-9932-5724e031bb85",
   "metadata": {},
   "outputs": [],
   "source": []
  }
 ],
 "metadata": {
  "kernelspec": {
   "display_name": "Python 3 (ipykernel)",
   "language": "python",
   "name": "python3"
  },
  "language_info": {
   "codemirror_mode": {
    "name": "ipython",
    "version": 3
   },
   "file_extension": ".py",
   "mimetype": "text/x-python",
   "name": "python",
   "nbconvert_exporter": "python",
   "pygments_lexer": "ipython3",
   "version": "3.12.0"
  }
 },
 "nbformat": 4,
 "nbformat_minor": 5
}
