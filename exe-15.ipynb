{
 "cells": [
  {
   "cell_type": "code",
   "execution_count": 2,
   "id": "a9c52f55-25bb-4d59-8f5e-4fbe0353e928",
   "metadata": {},
   "outputs": [
    {
     "name": "stdout",
     "output_type": "stream",
     "text": [
      "DataFrame with missing values:\n",
      "     A    B     C\n",
      "0  1.0  5.0   NaN\n",
      "1  2.0  NaN  10.0\n",
      "2  NaN  7.0  11.0\n",
      "3  4.0  8.0  12.0\n",
      "\n",
      "Missing values in each column:\n",
      "A    1\n",
      "B    1\n",
      "C    1\n",
      "dtype: int64\n",
      "\n",
      "DataFrame after removing rows with missing values:\n",
      "     A    B     C\n",
      "3  4.0  8.0  12.0\n"
     ]
    }
   ],
   "source": [
    "#Find the missing values and delete for the given data set\n",
    "import pandas as pd\n",
    "import numpy as np\n",
    "\n",
    "# Sample DataFrame with missing values\n",
    "data = {\n",
    "    'A': [1, 2, np.nan, 4],\n",
    "    'B': [5, np.nan, 7, 8],\n",
    "    'C': [np.nan, 10, 11, 12]\n",
    "}\n",
    "\n",
    "# Creating DataFrame\n",
    "df = pd.DataFrame(data)\n",
    "\n",
    "# Displaying the DataFrame with missing values\n",
    "print(\"DataFrame with missing values:\")\n",
    "print(df)\n",
    "\n",
    "# Finding missing values\n",
    "missing_values = df.isnull().sum()\n",
    "print(\"\\nMissing values in each column:\")\n",
    "print(missing_values)\n",
    "\n",
    "# Deleting rows with missing values\n",
    "df_cleaned = df.dropna()\n",
    "\n",
    "# Displaying the cleaned DataFrame without missing values\n",
    "print(\"\\nDataFrame after removing rows with missing values:\")\n",
    "print(df_cleaned)\n"
   ]
  },
  {
   "cell_type": "code",
   "execution_count": null,
   "id": "65423e8a-9e52-4f18-92b4-16587d00b83c",
   "metadata": {},
   "outputs": [],
   "source": []
  }
 ],
 "metadata": {
  "kernelspec": {
   "display_name": "Python 3 (ipykernel)",
   "language": "python",
   "name": "python3"
  },
  "language_info": {
   "codemirror_mode": {
    "name": "ipython",
    "version": 3
   },
   "file_extension": ".py",
   "mimetype": "text/x-python",
   "name": "python",
   "nbconvert_exporter": "python",
   "pygments_lexer": "ipython3",
   "version": "3.12.0"
  }
 },
 "nbformat": 4,
 "nbformat_minor": 5
}
