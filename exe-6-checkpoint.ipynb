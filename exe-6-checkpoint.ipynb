{
 "cells": [
  {
   "cell_type": "code",
   "execution_count": 2,
   "id": "73422c1e-df97-425f-8b98-2a9433df6790",
   "metadata": {},
   "outputs": [
    {
     "name": "stdout",
     "output_type": "stream",
     "text": [
      "Slope of the line is: 1.3333333333333333\n",
      "Distance between the points is: 5.0\n"
     ]
    }
   ],
   "source": [
    "#Fill in the Line class methods to accept coordinates as a pair of tuples and return the slope and distance of the lineimport math\n",
    "\n",
    "class Line:\n",
    "    def __init__(self, coord1, coord2):\n",
    "        self.coord1 = coord1\n",
    "        self.coord2 = coord2\n",
    "\n",
    "    def slope(self):\n",
    "        x1, y1 = self.coord1\n",
    "        x2, y2 = self.coord2\n",
    "        return (y2 - y1) / (x2 - x1) if (x2 - x1) != 0 else float('inf')\n",
    "\n",
    "    def distance(self):\n",
    "        x1, y1 = self.coord1\n",
    "        x2, y2 = self.coord2\n",
    "        return math.sqrt((x2 - x1)**2 + (y2 - y1)**2)\n",
    "\n",
    "# Example usage:\n",
    "line = Line((1, 2), (4, 6))\n",
    "\n",
    "# Calculate slope and distance\n",
    "slope = line.slope()\n",
    "distance = line.distance()\n",
    "\n",
    "print(f\"Slope of the line is: {slope}\")\n",
    "print(f\"Distance between the points is: {distance}\")\n"
   ]
  },
  {
   "cell_type": "code",
   "execution_count": 3,
   "id": "e4605b57-d6af-4664-8c8f-be6b888e3bfb",
   "metadata": {},
   "outputs": [
    {
     "name": "stdout",
     "output_type": "stream",
     "text": [
      "Hello, my name is John and I am 30 years old. Nice to meet you!\n"
     ]
    }
   ],
   "source": [
    "#Create a class and attributes name and age and display a greeting message on the display\n",
    "class Person:\n",
    "    def __init__(self, name, age):\n",
    "        self.name = name\n",
    "        self.age = age\n",
    "\n",
    "    def display_greeting(self):\n",
    "        print(f\"Hello, my name is {self.name} and I am {self.age} years old. Nice to meet you!\")\n",
    "\n",
    "# Create an instance of the Person class\n",
    "person = Person(\"John\", 30)\n",
    "\n",
    "# Display greeting message using the method\n",
    "person.display_greeting()\n"
   ]
  },
  {
   "cell_type": "code",
   "execution_count": 4,
   "id": "20511cf1-4a3e-47e5-8c9e-7728c1d47a2b",
   "metadata": {},
   "outputs": [
    {
     "name": "stdout",
     "output_type": "stream",
     "text": [
      "Dog is eating.\n",
      "Dog makes a sound.\n",
      "A Labrador barks loudly.\n",
      "Cat is eating.\n",
      "Cat makes a sound.\n",
      "A Black cat purrs softly.\n"
     ]
    }
   ],
   "source": [
    "#Write a python program describing inheritance for example Animal is a class and you can inherit various properties like all animals eat,bark etc\n",
    "class Animal:\n",
    "    def __init__(self, species):\n",
    "        self.species = species\n",
    "\n",
    "    def eat(self):\n",
    "        print(f\"{self.species} is eating.\")\n",
    "\n",
    "    def make_sound(self):\n",
    "        print(f\"{self.species} makes a sound.\")\n",
    "\n",
    "class Dog(Animal):\n",
    "    def __init__(self, breed):\n",
    "        super().__init__(\"Dog\")\n",
    "        self.breed = breed\n",
    "\n",
    "    def bark(self):\n",
    "        print(f\"A {self.breed} barks loudly.\")\n",
    "\n",
    "class Cat(Animal):\n",
    "    def __init__(self, color):\n",
    "        super().__init__(\"Cat\")\n",
    "        self.color = color\n",
    "\n",
    "    def purr(self):\n",
    "        print(f\"A {self.color} cat purrs softly.\")\n",
    "\n",
    "# Creating instances and demonstrating inheritance\n",
    "dog = Dog(\"Labrador\")\n",
    "cat = Cat(\"Black\")\n",
    "\n",
    "dog.eat()            # Inherited from Animal\n",
    "dog.make_sound()     # Inherited from Animal\n",
    "dog.bark()           # Unique to Dog class\n",
    "\n",
    "cat.eat()            # Inherited from Animal\n",
    "cat.make_sound()     # Inherited from Animal\n",
    "cat.purr()           # Unique to Cat class\n"
   ]
  },
  {
   "cell_type": "code",
   "execution_count": null,
   "id": "d8ba5db1-7242-457e-b8a2-7dda38f760f2",
   "metadata": {},
   "outputs": [],
   "source": []
  }
 ],
 "metadata": {
  "kernelspec": {
   "display_name": "Python 3 (ipykernel)",
   "language": "python",
   "name": "python3"
  },
  "language_info": {
   "codemirror_mode": {
    "name": "ipython",
    "version": 3
   },
   "file_extension": ".py",
   "mimetype": "text/x-python",
   "name": "python",
   "nbconvert_exporter": "python",
   "pygments_lexer": "ipython3",
   "version": "3.12.0"
  }
 },
 "nbformat": 4,
 "nbformat_minor": 5
}
