{
 "cells": [
  {
   "cell_type": "code",
   "execution_count": 1,
   "id": "d76f01d0-cd25-4dac-a5e7-af555521611d",
   "metadata": {},
   "outputs": [
    {
     "name": "stdout",
     "output_type": "stream",
     "text": [
      "Converted Python List: [5, 10, 15, 20, 25]\n",
      "Type of Converted List: <class 'list'>\n"
     ]
    }
   ],
   "source": [
    "#Write a Pandas program to convert a Panda module Series to Python list and it's type\n",
    "import pandas as pd\n",
    "\n",
    "# Creating a Pandas Series\n",
    "data_series = pd.Series([5, 10, 15, 20, 25])\n",
    "\n",
    "# Convert Pandas Series to Python list\n",
    "python_list = data_series.tolist()\n",
    "\n",
    "# Displaying the converted list and its type\n",
    "print(\"Converted Python List:\", python_list)\n",
    "print(\"Type of Converted List:\", type(python_list))\n"
   ]
  },
  {
   "cell_type": "code",
   "execution_count": 2,
   "id": "fc7e7dd5-43a7-44f1-9f91-8a1ad96cbc2e",
   "metadata": {},
   "outputs": [
    {
     "name": "stdout",
     "output_type": "stream",
     "text": [
      "Equality Comparison:\n",
      "0    False\n",
      "1     True\n",
      "2    False\n",
      "3     True\n",
      "4    False\n",
      "dtype: bool\n",
      "\n",
      "Greater Than Comparison:\n",
      "0    False\n",
      "1    False\n",
      "2     True\n",
      "3    False\n",
      "4     True\n",
      "dtype: bool\n",
      "\n",
      "Less Than Comparison:\n",
      "0     True\n",
      "1    False\n",
      "2    False\n",
      "3    False\n",
      "4    False\n",
      "dtype: bool\n"
     ]
    }
   ],
   "source": [
    "#Write a Pandas program to compare the elements of the two Pandas Series.   \n",
    "import pandas as pd\n",
    "\n",
    "# Creating two Pandas Series\n",
    "series1 = pd.Series([10, 20, 30, 40, 50])\n",
    "series2 = pd.Series([15, 20, 25, 40, 45])\n",
    "\n",
    "# Comparing elements between the two series\n",
    "comparison_equal = series1 == series2  # Check for equality\n",
    "comparison_greater = series1 > series2  # Check for greater than\n",
    "comparison_lesser = series1 < series2   # Check for less than\n",
    "\n",
    "# Displaying comparison results\n",
    "print(\"Equality Comparison:\")\n",
    "print(comparison_equal)\n",
    "print(\"\\nGreater Than Comparison:\")\n",
    "print(comparison_greater)\n",
    "print(\"\\nLess Than Comparison:\")\n",
    "print(comparison_lesser)\n"
   ]
  },
  {
   "cell_type": "code",
   "execution_count": 3,
   "id": "5e98ff5e-8675-4dfb-8ca8-cc5918148bd0",
   "metadata": {},
   "outputs": [
    {
     "name": "stdout",
     "output_type": "stream",
     "text": [
      "Pandas Series from Dictionary:\n",
      "A    10\n",
      "B    20\n",
      "C    30\n",
      "D    40\n",
      "dtype: int64\n"
     ]
    }
   ],
   "source": [
    "#Write a Pandas program to convert a dictionary to a Pandas series.       \n",
    "import pandas as pd\n",
    "\n",
    "# Sample dictionary\n",
    "data_dict = {'A': 10, 'B': 20, 'C': 30, 'D': 40}\n",
    "\n",
    "# Converting dictionary to Pandas Series\n",
    "series_from_dict = pd.Series(data_dict)\n",
    "\n",
    "# Displaying the Pandas Series\n",
    "print(\"Pandas Series from Dictionary:\")\n",
    "print(series_from_dict)\n"
   ]
  },
  {
   "cell_type": "code",
   "execution_count": 4,
   "id": "9338c84c-461e-4d0e-9ca4-8a7e39861419",
   "metadata": {},
   "outputs": [
    {
     "name": "stdout",
     "output_type": "stream",
     "text": [
      "First Column as Pandas Series:\n",
      "0    10\n",
      "1    20\n",
      "2    30\n",
      "Name: A, dtype: int64\n"
     ]
    }
   ],
   "source": [
    "#Write a Pandas program to convert the first column of a DataFrame as a Series\n",
    "import pandas as pd\n",
    "\n",
    "# Sample DataFrame\n",
    "data = {\n",
    "    'A': [10, 20, 30],\n",
    "    'B': [40, 50, 60],\n",
    "    'C': [70, 80, 90]\n",
    "}\n",
    "\n",
    "df = pd.DataFrame(data)\n",
    "\n",
    "# Extracting the first column as a Pandas Series\n",
    "first_column_series = df.iloc[:, 0]\n",
    "\n",
    "# Displaying the Pandas Series\n",
    "print(\"First Column as Pandas Series:\")\n",
    "print(first_column_series)\n"
   ]
  },
  {
   "cell_type": "code",
   "execution_count": 6,
   "id": "cac9b55d-6ae4-46d3-af4d-ab3a49d4db2b",
   "metadata": {},
   "outputs": [
    {
     "name": "stdout",
     "output_type": "stream",
     "text": [
      "Updated Series after adding data:\n",
      "0    10\n",
      "1    20\n",
      "2    30\n",
      "3    40\n",
      "4    50\n",
      "dtype: int64\n"
     ]
    }
   ],
   "source": [
    "#Write a Pandas program to add some data to an existing Series. \n",
    "import pandas as pd\n",
    "\n",
    "# Existing Series\n",
    "existing_series = pd.Series([10, 20, 30])\n",
    "\n",
    "# Data to add\n",
    "data_to_add = pd.Series([40, 50])\n",
    "\n",
    "# Adding data to the existing Series using loc[]\n",
    "existing_series.loc[len(existing_series)] = data_to_add[0]\n",
    "existing_series.loc[len(existing_series)] = data_to_add[1]\n",
    "\n",
    "# Displaying the updated Series\n",
    "print(\"Updated Series after adding data:\")\n",
    "print(existing_series)\n"
   ]
  },
  {
   "cell_type": "code",
   "execution_count": 7,
   "id": "3405404d-44b2-48d8-a8d3-cde85c2adb7f",
   "metadata": {},
   "outputs": [
    {
     "name": "stdout",
     "output_type": "stream",
     "text": [
      "DataFrame with missing values detected (True/False):\n",
      "       A      B      C\n",
      "0  False  False   True\n",
      "1  False   True  False\n",
      "2   True   True  False\n",
      "3  False  False  False\n"
     ]
    }
   ],
   "source": [
    "#Write a Pandas program to detect missing values of a given DataFrame. Display True or False\n",
    "import pandas as pd\n",
    "import numpy as np\n",
    "\n",
    "# Creating a sample DataFrame with missing values\n",
    "data = {\n",
    "    'A': [1, 2, np.nan, 4],\n",
    "    'B': [5, np.nan, np.nan, 8],\n",
    "    'C': [np.nan, 12, 13, 14]\n",
    "}\n",
    "\n",
    "df = pd.DataFrame(data)\n",
    "\n",
    "# Detecting missing values in the DataFrame\n",
    "missing_values = df.isnull()\n",
    "\n",
    "# Displaying True or False based on missing values\n",
    "print(\"DataFrame with missing values detected (True/False):\")\n",
    "print(missing_values)\n"
   ]
  },
  {
   "cell_type": "code",
   "execution_count": 8,
   "id": "10a74a2a-72e5-4358-aa05-5d93d3834256",
   "metadata": {},
   "outputs": [
    {
     "name": "stdout",
     "output_type": "stream",
     "text": [
      "Rows with at least 2 NaN values:\n",
      "     A    B     C\n",
      "0  1.0  5.0   NaN\n",
      "1  2.0  NaN  12.0\n",
      "3  4.0  8.0  14.0\n"
     ]
    }
   ],
   "source": [
    "#Write a Pandas program to keep the rows with at least 2 NaN values in a given DataFrame\n",
    "import pandas as pd\n",
    "import numpy as np\n",
    "\n",
    "# Creating a sample DataFrame with missing values\n",
    "data = {\n",
    "    'A': [1, 2, np.nan, 4],\n",
    "    'B': [5, np.nan, np.nan, 8],\n",
    "    'C': [np.nan, 12, 13, 14]\n",
    "}\n",
    "\n",
    "df = pd.DataFrame(data)\n",
    "\n",
    "# Keeping rows with at least 2 NaN values\n",
    "at_least_two_nan = df.dropna(thresh=2)\n",
    "\n",
    "# Displaying the resulting DataFrame\n",
    "print(\"Rows with at least 2 NaN values:\")\n",
    "print(at_least_two_nan)\n"
   ]
  },
  {
   "cell_type": "code",
   "execution_count": 9,
   "id": "3d9ee3d9-4802-4ee5-9ca6-262af371d80b",
   "metadata": {},
   "outputs": [
    {
     "name": "stdout",
     "output_type": "stream",
     "text": [
      "Mean, Min, Max age for each school:\n",
      "             mean  min  max\n",
      "School Code                \n",
      "S001         23.0   22   24\n",
      "S002         26.0   25   27\n"
     ]
    }
   ],
   "source": [
    "#Write a Pandas program to split the following dataframe by school code and get mean, min, and max value of age for each school\n",
    "import pandas as pd\n",
    "\n",
    "# Sample DataFrame\n",
    "data = {\n",
    "    'School Code': ['S001', 'S002', 'S001', 'S002', 'S001', 'S002'],\n",
    "    'Name': ['Alice', 'Bob', 'Charlie', 'David', 'Ella', 'Frank'],\n",
    "    'Age': [23, 25, 22, 26, 24, 27]\n",
    "}\n",
    "\n",
    "df = pd.DataFrame(data)\n",
    "\n",
    "# Grouping by School Code and calculating mean, min, max age for each school\n",
    "result = df.groupby('School Code')['Age'].agg(['mean', 'min', 'max'])\n",
    "\n",
    "# Displaying the mean, min, max age for each school\n",
    "print(\"Mean, Min, Max age for each school:\")\n",
    "print(result)\n"
   ]
  },
  {
   "cell_type": "code",
   "execution_count": null,
   "id": "64cd3893-19a8-4126-9c1e-325e81c9baea",
   "metadata": {},
   "outputs": [],
   "source": []
  }
 ],
 "metadata": {
  "kernelspec": {
   "display_name": "Python 3 (ipykernel)",
   "language": "python",
   "name": "python3"
  },
  "language_info": {
   "codemirror_mode": {
    "name": "ipython",
    "version": 3
   },
   "file_extension": ".py",
   "mimetype": "text/x-python",
   "name": "python",
   "nbconvert_exporter": "python",
   "pygments_lexer": "ipython3",
   "version": "3.12.0"
  }
 },
 "nbformat": 4,
 "nbformat_minor": 5
}
