{
 "cells": [
  {
   "cell_type": "code",
   "execution_count": 1,
   "id": "eed10bba-347f-465b-975b-3a9fc138a9af",
   "metadata": {},
   "outputs": [
    {
     "name": "stdout",
     "output_type": "stream",
     "text": [
      "Array1: None of the elements are zero: True\n",
      "Array2: None of the elements are zero: False\n"
     ]
    }
   ],
   "source": [
    "#:** Write a NumPy program to test whether none of the elements of a given array are zero\n",
    "import numpy as np\n",
    "\n",
    "def check_no_zero_elements(arr):\n",
    "    return np.all(arr != 0)\n",
    "\n",
    "# Example array\n",
    "array1 = np.array([1, 2, 3, 4, 5])\n",
    "array2 = np.array([0, 2, 3, 4, 5])\n",
    "\n",
    "# Check if none of the elements in array1 are zero\n",
    "result1 = check_no_zero_elements(array1)\n",
    "print(f\"Array1: None of the elements are zero: {result1}\")\n",
    "\n",
    "# Check if none of the elements in array2 are zero\n",
    "result2 = check_no_zero_elements(array2)\n",
    "print(f\"Array2: None of the elements are zero: {result2}\")\n"
   ]
  },
  {
   "cell_type": "code",
   "execution_count": 2,
   "id": "e4aaf4d6-c101-4e70-9aa4-6265b7434365",
   "metadata": {},
   "outputs": [
    {
     "name": "stdout",
     "output_type": "stream",
     "text": [
      "Array of 10 zeros:\n",
      "[0. 0. 0. 0. 0. 0. 0. 0. 0. 0.]\n",
      "\n",
      "Array of 10 ones:\n",
      "[1. 1. 1. 1. 1. 1. 1. 1. 1. 1.]\n",
      "\n",
      "Array of 10 fives:\n",
      "[5. 5. 5. 5. 5. 5. 5. 5. 5. 5.]\n",
      "\n",
      "Final array combining zeros, ones, and fives:\n",
      "[0. 0. 0. 0. 0. 0. 0. 0. 0. 0. 1. 1. 1. 1. 1. 1. 1. 1. 1. 1. 5. 5. 5. 5.\n",
      " 5. 5. 5. 5. 5. 5.]\n"
     ]
    }
   ],
   "source": [
    "#:** Write a NumPy program to create an array of 10 zeros, 10 ones, and 10 fives\n",
    "import numpy as np\n",
    "\n",
    "# Creating arrays of 10 zeros, 10 ones, and 10 fives\n",
    "array_zeros = np.zeros(10)\n",
    "array_ones = np.ones(10)\n",
    "array_fives = np.ones(10) * 5\n",
    "\n",
    "# Concatenating the arrays\n",
    "final_array = np.concatenate([array_zeros, array_ones, array_fives])\n",
    "\n",
    "print(\"Array of 10 zeros:\")\n",
    "print(array_zeros)\n",
    "\n",
    "print(\"\\nArray of 10 ones:\")\n",
    "print(array_ones)\n",
    "\n",
    "print(\"\\nArray of 10 fives:\")\n",
    "print(array_fives)\n",
    "\n",
    "print(\"\\nFinal array combining zeros, ones, and fives:\")\n",
    "print(final_array)\n"
   ]
  },
  {
   "cell_type": "code",
   "execution_count": 3,
   "id": "26f4f3a6-11a8-41ab-820a-d85f66178b40",
   "metadata": {},
   "outputs": [
    {
     "name": "stdout",
     "output_type": "stream",
     "text": [
      "Array of 15 random numbers from a standard normal distribution:\n",
      "[-1.8608293   0.48732155 -0.76308212 -0.28428702 -0.65978933 -1.24518182\n",
      " -0.12046679  0.9267345  -0.34117629 -0.84001435 -0.05299112 -0.75185274\n",
      " -1.34379568 -0.86854198  0.14177673]\n"
     ]
    }
   ],
   "source": [
    "#Write a NumPy program to generate an array of 15 random numbers from a standard normal distribution\n",
    "import numpy as np\n",
    "\n",
    "# Generate an array of 15 random numbers from standard normal distribution\n",
    "random_array = np.random.randn(15)\n",
    "\n",
    "print(\"Array of 15 random numbers from a standard normal distribution:\")\n",
    "print(random_array)\n"
   ]
  },
  {
   "cell_type": "code",
   "execution_count": 4,
   "id": "f2f36a28-4147-4423-98f8-6675b2dcfec8",
   "metadata": {},
   "outputs": [
    {
     "name": "stdout",
     "output_type": "stream",
     "text": [
      "Two-dimensional array (shape 8x5) of random numbers from a normal distribution:\n",
      "[[193.8712976  208.90886534 187.04959345 194.71959756 202.98270673]\n",
      " [195.08489989 201.3563829  205.48128851 196.21501813 200.52934091]\n",
      " [197.84250744 195.54742144 190.10249189 200.55822801 186.71756421]\n",
      " [196.8343414  195.48461462 204.78891607 200.0096212  197.30601264]\n",
      " [205.40075347 195.63988238 195.34999111 198.80960764 193.96623183]\n",
      " [198.8721251  193.44996568 203.84273588 196.66444626 197.58154023]\n",
      " [201.82844753 205.41516221 197.09440097 191.15002876 201.30753203]\n",
      " [211.36767457 193.15733464 204.19468934 208.97267597 203.21571215]]\n"
     ]
    }
   ],
   "source": [
    "#Write a NumPy program to create a two-dimensional array with shape (8,5) of random numbers. Select random numbers from a normal distribution (200,7)\n",
    "import numpy as np\n",
    "\n",
    "# Generate a 2D array of shape (8, 5) with random numbers from normal distribution (mean=200, std=7)\n",
    "random_array = np.random.normal(200, 7, size=(8, 5))\n",
    "\n",
    "print(\"Two-dimensional array (shape 8x5) of random numbers from a normal distribution:\")\n",
    "print(random_array)\n"
   ]
  },
  {
   "cell_type": "code",
   "execution_count": 5,
   "id": "02b28767-8cbc-4065-bb92-6a23b48f3ab3",
   "metadata": {},
   "outputs": [
    {
     "name": "stdout",
     "output_type": "stream",
     "text": [
      "Original Array:\n",
      "[[1 2 3]\n",
      " [4 5 6]\n",
      " [7 8 9]]\n",
      "\n",
      "Swapped Array with rows and columns reversed:\n",
      "[[9 8 7]\n",
      " [6 5 4]\n",
      " [3 2 1]]\n"
     ]
    }
   ],
   "source": [
    "#:** Write a NumPy program to swap rows and columns of a given array in reverse order\n",
    "import numpy as np\n",
    "\n",
    "# Sample 2D array (can be replaced with your array)\n",
    "given_array = np.array([[1, 2, 3],\n",
    "                        [4, 5, 6],\n",
    "                        [7, 8, 9]])\n",
    "\n",
    "# Swap rows and columns in reverse order\n",
    "swapped_array = given_array[::-1, ::-1]\n",
    "\n",
    "print(\"Original Array:\")\n",
    "print(given_array)\n",
    "\n",
    "print(\"\\nSwapped Array with rows and columns reversed:\")\n",
    "print(swapped_array)\n"
   ]
  },
  {
   "cell_type": "code",
   "execution_count": 7,
   "id": "aaf30dc9-d6e1-4758-a49d-e5ac46cbc4b4",
   "metadata": {},
   "outputs": [
    {
     "name": "stdout",
     "output_type": "stream",
     "text": [
      "Array 1:\n",
      "[[1 2]\n",
      " [3 4]]\n",
      "\n",
      "Array 2:\n",
      "[[5 6]\n",
      " [7 8]]\n",
      "\n",
      "Result of element-wise multiplication using * operator:\n",
      "[[ 5 12]\n",
      " [21 32]]\n",
      "\n",
      "Result of element-wise multiplication using np.multiply():\n",
      "[[ 5 12]\n",
      " [21 32]]\n"
     ]
    }
   ],
   "source": [
    "#Write a NumPy program to multiply two given arrays of the same size element-by-element\n",
    "import numpy as np\n",
    "\n",
    "# Two sample arrays (replace these with your arrays)\n",
    "array1 = np.array([[1, 2],\n",
    "                    [3, 4]])\n",
    "\n",
    "array2 = np.array([[5, 6],\n",
    "                    [7, 8]])\n",
    "\n",
    "# Element-wise multiplication using the * operator\n",
    "result_multiply_operator = array1 * array2\n",
    "\n",
    "# Element-wise multiplication using np.multiply()\n",
    "result_np_multiply = np.multiply(array1, array2)\n",
    "\n",
    "print(\"Array 1:\")\n",
    "print(array1)\n",
    "\n",
    "print(\"\\nArray 2:\")\n",
    "print(array2)\n",
    "\n",
    "print(\"\\nResult of element-wise multiplication using * operator:\")\n",
    "print(result_multiply_operator)\n",
    "\n",
    "print(\"\\nResult of element-wise multiplication using np.multiply():\")\n",
    "print(result_np_multiply)\n"
   ]
  },
  {
   "cell_type": "code",
   "execution_count": 8,
   "id": "00109872-2f99-442f-98ab-f033e7c43754",
   "metadata": {},
   "outputs": [
    {
     "name": "stdout",
     "output_type": "stream",
     "text": [
      "3x3 Matrix with values ranging from 2 to 10:\n",
      "[[ 2  3  4]\n",
      " [ 5  6  7]\n",
      " [ 8  9 10]]\n"
     ]
    }
   ],
   "source": [
    "#:** Write a NumPy program to create a 3x3 matrix with values ranging from 2 to 10\n",
    "import numpy as np\n",
    "\n",
    "# Creating a 3x3 matrix with values ranging from 2 to 10\n",
    "matrix_3x3 = np.arange(2, 11).reshape(3, 3)\n",
    "\n",
    "print(\"3x3 Matrix with values ranging from 2 to 10:\")\n",
    "print(matrix_3x3)\n"
   ]
  },
  {
   "cell_type": "code",
   "execution_count": 9,
   "id": "eab41bb9-1d14-4c88-aef0-23899911ae78",
   "metadata": {},
   "outputs": [
    {
     "name": "stdout",
     "output_type": "stream",
     "text": [
      "3x3x3 Array with random values:\n",
      "[[[0.05838698 0.78418762 0.37155015]\n",
      "  [0.57567236 0.29086832 0.9342233 ]\n",
      "  [0.74238411 0.25209468 0.45421914]]\n",
      "\n",
      " [[0.92378648 0.63958244 0.42931484]\n",
      "  [0.98435294 0.13173571 0.20392516]\n",
      "  [0.40388534 0.97759443 0.0062933 ]]\n",
      "\n",
      " [[0.13765449 0.60067876 0.87341409]\n",
      "  [0.22818037 0.90546216 0.8293397 ]\n",
      "  [0.85992897 0.41061082 0.46511243]]]\n"
     ]
    }
   ],
   "source": [
    "#Write a NumPy program to create a 3x3x3 array with random values. Expected Output\n",
    "import numpy as np\n",
    "\n",
    "# Creating a 3x3x3 array with random values\n",
    "array_3x3x3 = np.random.rand(3, 3, 3)\n",
    "\n",
    "print(\"3x3x3 Array with random values:\")\n",
    "print(array_3x3x3)\n"
   ]
  },
  {
   "cell_type": "code",
   "execution_count": 10,
   "id": "dbbbc3d0-b202-4596-8f84-a670aa27ea93",
   "metadata": {},
   "outputs": [
    {
     "name": "stdout",
     "output_type": "stream",
     "text": [
      "Given Flattened Array:\n",
      "[1 5 3 8 2 4]\n",
      "\n",
      "Maximum value in the flattened array: 8\n",
      "Minimum value in the flattened array: 1\n"
     ]
    }
   ],
   "source": [
    "#:** Write a Python program to find the maximum and minimum value of a given flattened array\n",
    "import numpy as np\n",
    "\n",
    "# Given flattened array (replace this with your array)\n",
    "flattened_array = np.array([1, 5, 3, 8, 2, 4])\n",
    "\n",
    "# Find maximum and minimum values of the flattened array\n",
    "max_value = np.amax(flattened_array)\n",
    "min_value = np.amin(flattened_array)\n",
    "\n",
    "print(\"Given Flattened Array:\")\n",
    "print(flattened_array)\n",
    "\n",
    "print(\"\\nMaximum value in the flattened array:\", max_value)\n",
    "print(\"Minimum value in the flattened array:\", min_value)\n"
   ]
  },
  {
   "cell_type": "code",
   "execution_count": null,
   "id": "242906ae-2216-4107-afdf-0020d22dedb3",
   "metadata": {},
   "outputs": [],
   "source": []
  }
 ],
 "metadata": {
  "kernelspec": {
   "display_name": "Python 3 (ipykernel)",
   "language": "python",
   "name": "python3"
  },
  "language_info": {
   "codemirror_mode": {
    "name": "ipython",
    "version": 3
   },
   "file_extension": ".py",
   "mimetype": "text/x-python",
   "name": "python",
   "nbconvert_exporter": "python",
   "pygments_lexer": "ipython3",
   "version": "3.12.0"
  }
 },
 "nbformat": 4,
 "nbformat_minor": 5
}
