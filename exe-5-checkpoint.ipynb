{
 "cells": [
  {
   "cell_type": "code",
   "execution_count": 1,
   "id": "ad12b631-3c96-431a-9c3f-019832c69b33",
   "metadata": {},
   "outputs": [
    {
     "name": "stdin",
     "output_type": "stream",
     "text": [
      "Enter a number:  23\n"
     ]
    },
    {
     "name": "stdout",
     "output_type": "stream",
     "text": [
      "23 is a prime number\n"
     ]
    }
   ],
   "source": [
    "#Python Program to Check Prime Number\n",
    "def is_prime_number(num):\n",
    "    if num <= 1:\n",
    "        return False\n",
    "    for i in range(2, int(num ** 0.5) + 1):\n",
    "        if num % i == 0:\n",
    "            return False\n",
    "    return True\n",
    "\n",
    "# Input number\n",
    "number = int(input(\"Enter a number: \"))\n",
    "\n",
    "# Check if the number is prime\n",
    "if is_prime_number(number):\n",
    "    print(f\"{number} is a prime number\")\n",
    "else:\n",
    "    print(f\"{number} is not a prime number\")\n"
   ]
  },
  {
   "cell_type": "code",
   "execution_count": 2,
   "id": "9091ac5e-eb66-40b3-933b-b7ade5ce3c1c",
   "metadata": {},
   "outputs": [
    {
     "name": "stdin",
     "output_type": "stream",
     "text": [
      "Enter a number to find its factorial:  2\n"
     ]
    },
    {
     "name": "stdout",
     "output_type": "stream",
     "text": [
      "The factorial of 2 is: 2\n"
     ]
    }
   ],
   "source": [
    "#Python Program to Find the Factorial of a Number\n",
    "def factorial(n):\n",
    "    if n == 0 or n == 1:\n",
    "        return 1\n",
    "    else:\n",
    "        return n * factorial(n - 1)\n",
    "\n",
    "# Input number\n",
    "number = int(input(\"Enter a number to find its factorial: \"))\n",
    "\n",
    "# Check if the number is non-negative\n",
    "if number < 0:\n",
    "    print(\"Factorial cannot be found for a negative number.\")\n",
    "else:\n",
    "    fact = factorial(number)\n",
    "    print(f\"The factorial of {number} is: {fact}\")\n"
   ]
  },
  {
   "cell_type": "code",
   "execution_count": 3,
   "id": "2e2022cd-7c81-4862-83c7-b5032bc8e945",
   "metadata": {},
   "outputs": [
    {
     "name": "stdin",
     "output_type": "stream",
     "text": [
      "Enter a number to display its multiplication table:  2\n"
     ]
    },
    {
     "name": "stdout",
     "output_type": "stream",
     "text": [
      "Multiplication Table for 2:\n",
      "2 x 1 = 2\n",
      "2 x 2 = 4\n",
      "2 x 3 = 6\n",
      "2 x 4 = 8\n",
      "2 x 5 = 10\n",
      "2 x 6 = 12\n",
      "2 x 7 = 14\n",
      "2 x 8 = 16\n",
      "2 x 9 = 18\n",
      "2 x 10 = 20\n"
     ]
    }
   ],
   "source": [
    "#Python Program to Display the multiplication Table\n",
    "def multiplication_table(num):\n",
    "    print(f\"Multiplication Table for {num}:\")\n",
    "    for i in range(1, 11):\n",
    "        print(f\"{num} x {i} = {num * i}\")\n",
    "\n",
    "# Input number\n",
    "number = int(input(\"Enter a number to display its multiplication table: \"))\n",
    "\n",
    "# Display the multiplication table for the entered number\n",
    "multiplication_table(number)\n"
   ]
  },
  {
   "cell_type": "code",
   "execution_count": null,
   "id": "2c4bad67-2297-48a4-9260-8f1f776b15af",
   "metadata": {},
   "outputs": [],
   "source": []
  }
 ],
 "metadata": {
  "kernelspec": {
   "display_name": "Python 3 (ipykernel)",
   "language": "python",
   "name": "python3"
  },
  "language_info": {
   "codemirror_mode": {
    "name": "ipython",
    "version": 3
   },
   "file_extension": ".py",
   "mimetype": "text/x-python",
   "name": "python",
   "nbconvert_exporter": "python",
   "pygments_lexer": "ipython3",
   "version": "3.12.0"
  }
 },
 "nbformat": 4,
 "nbformat_minor": 5
}
