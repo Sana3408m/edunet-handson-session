{
 "cells": [
  {
   "cell_type": "code",
   "execution_count": 1,
   "id": "67fef462-d47a-45b3-a991-ef59f435e114",
   "metadata": {},
   "outputs": [
    {
     "name": "stdout",
     "output_type": "stream",
     "text": [
      "Concatenated String: Hello, world!\n"
     ]
    }
   ],
   "source": [
    "#Write a python program to concatenate two strings\n",
    "def concatenate_strings(str1, str2):\n",
    "    concatenated_string = str1 + str2\n",
    "    return concatenated_string\n",
    "\n",
    "# Example strings\n",
    "string1 = \"Hello, \"\n",
    "string2 = \"world!\"\n",
    "\n",
    "# Concatenate the strings using the + operator\n",
    "result = concatenate_strings(string1, string2)\n",
    "print(\"Concatenated String:\", result)\n"
   ]
  },
  {
   "cell_type": "code",
   "execution_count": 2,
   "id": "7ed8e35e-26af-48aa-8425-2a986dd002f2",
   "metadata": {},
   "outputs": [
    {
     "name": "stdout",
     "output_type": "stream",
     "text": [
      "Reversed String: !dlroW ,olleH\n"
     ]
    }
   ],
   "source": [
    "#: Write a python program to reverse string\n",
    "def reverse_string(s):\n",
    "    return s[::-1]\n",
    "\n",
    "# Example string\n",
    "input_string = \"Hello, World!\"\n",
    "\n",
    "# Reverse the string using slicing\n",
    "reversed_string = reverse_string(input_string)\n",
    "print(\"Reversed String:\", reversed_string)\n",
    "\n"
   ]
  },
  {
   "cell_type": "code",
   "execution_count": null,
   "id": "bef042e4-1845-430f-9214-f55c5f74957d",
   "metadata": {},
   "outputs": [],
   "source": []
  }
 ],
 "metadata": {
  "kernelspec": {
   "display_name": "Python 3 (ipykernel)",
   "language": "python",
   "name": "python3"
  },
  "language_info": {
   "codemirror_mode": {
    "name": "ipython",
    "version": 3
   },
   "file_extension": ".py",
   "mimetype": "text/x-python",
   "name": "python",
   "nbconvert_exporter": "python",
   "pygments_lexer": "ipython3",
   "version": "3.12.0"
  }
 },
 "nbformat": 4,
 "nbformat_minor": 5
}
